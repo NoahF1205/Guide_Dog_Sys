{
 "cells": [
  {
   "cell_type": "code",
   "execution_count": 11,
   "metadata": {},
   "outputs": [],
   "source": [
    "import rosbag\n",
    "from datetime import datetime\n",
    "import cv2\n",
    "from cv_bridge import CvBridge\n",
    "import os"
   ]
  },
  {
   "attachments": {},
   "cell_type": "markdown",
   "metadata": {},
   "source": [
    "https://answers.ros.org/question/342763/what-is-the-workflow-to-prevent-mixing-python27-and-python3-for-tf2/"
   ]
  },
  {
   "cell_type": "code",
   "execution_count": 12,
   "metadata": {},
   "outputs": [],
   "source": [
    "bag = rosbag.Bag('./data/2023-06-29-18-23-01.bag') # 该bag是一个生成器对象，需要去查看对生成器对象的相关操作"
   ]
  },
  {
   "cell_type": "code",
   "execution_count": 10,
   "metadata": {},
   "outputs": [
    {
     "name": "stdout",
     "output_type": "stream",
     "text": [
      "2023-06-29 18:23:01.762284\n"
     ]
    }
   ],
   "source": [
    "# 返回生成器的下一个元素，获得第一个topic的内容并查看\n",
    "topic, msg, t = next(bag.read_messages())\n",
    "# 把时间戳变成readabletime\n",
    "dt = datetime.fromtimestamp(t.to_sec())\n",
    "print(dt)"
   ]
  },
  {
   "cell_type": "code",
   "execution_count": 13,
   "metadata": {},
   "outputs": [],
   "source": [
    "# 创建一个CvBridge 对象，用来将ROS图像消息转换成openCV图像格式\n",
    "bridge = CvBridge()\n",
    "# 文件存放路径\n",
    "save_folder_rgb = 'data/images/rgb'\n",
    "save_folder_d = 'data/images/d'"
   ]
  },
  {
   "cell_type": "code",
   "execution_count": 15,
   "metadata": {},
   "outputs": [],
   "source": [
    "for topic, msg, t in bag.read_messages():\n",
    "    # 如果当前消息是深度图像消息，就将其保存到文件中\n",
    "    if topic == '/camera/aligned_depth_to_color/image_raw':\n",
    "        # 将 ROS 深度图像消息转换成 OpenCV 图像格式\n",
    "        depth_image = bridge.imgmsg_to_cv2(msg)\n",
    "\n",
    "        # 将深度图像保存到文件中\n",
    "        filename = os.path.join(save_folder_rgb, str(round(t.to_sec(), 3)) + '_rgb.png')\n",
    "        cv2.imwrite(filename, depth_image)\n",
    "\n",
    "    # 如果当前消息是 RGB 图像消息，就将其保存到文件中\n",
    "    if topic == '/camera/color/image_raw':\n",
    "        # 将 ROS RGB 图像消息转换成 OpenCV 图像格式\n",
    "        rgb_image = bridge.imgmsg_to_cv2(msg, 'bgr8')\n",
    "\n",
    "        # 将 RGB 图像保存到文件中\n",
    "        filename = os.path.join(save_folder_d, str(round(t.to_sec(), 3)) + '_d.png')\n",
    "        cv2.imwrite(filename, rgb_image)"
   ]
  },
  {
   "cell_type": "code",
   "execution_count": 7,
   "metadata": {},
   "outputs": [],
   "source": [
    "bag.close()"
   ]
  },
  {
   "cell_type": "markdown",
   "metadata": {},
   "source": [
    "-DCMAKE_BUILD_TYPE=Release  -DPYTHON_EXECUTABLE=/home/nvidia/mambaforge/envs/pytorch/bin/python  -DPYTHON_INCLUDE_DIR=/home/nvidia/mambaforge/envs/pytorch/include/python3.6m         -DPYTHON_LIBRARY=/home/nvidia/mambaforge/envs/pytorch/lib -DCMAKE_INSTALL_RPATH=/home/nvidia/mambaforge/envs/pytorch/lib/PyDKL.so -DCMAKE_INSTALL_PREFIX=home/nvidia/mambaforge/envs/pytorch"
   ]
  },
  {
   "cell_type": "markdown",
   "metadata": {},
   "source": [
    "-DCMAKE_BUILD_TYPE=Release  -DPYTHON_EXECUTABLE=/home/nvidia/mambaforge/envs/pytorch/bin/python  -DPYTHON_INCLUDE_DIR=/home/nvidia/mambaforge/envs/pytorch/include/python3.6m         -DPYTHON_LIBRARY=/home/nvidia/mambaforge/envs/pytorch/lib "
   ]
  }
 ],
 "metadata": {
  "kernelspec": {
   "display_name": "openmmlab",
   "language": "python",
   "name": "python3"
  },
  "language_info": {
   "codemirror_mode": {
    "name": "ipython",
    "version": 3
   },
   "file_extension": ".py",
   "mimetype": "text/x-python",
   "name": "python",
   "nbconvert_exporter": "python",
   "pygments_lexer": "ipython3",
   "version": "3.8.10"
  },
  "orig_nbformat": 4
 },
 "nbformat": 4,
 "nbformat_minor": 2
}
